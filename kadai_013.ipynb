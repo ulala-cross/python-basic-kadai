{
  "nbformat": 4,
  "nbformat_minor": 0,
  "metadata": {
    "colab": {
      "provenance": [],
      "authorship_tag": "ABX9TyMa1Wd9lIh8NJwKAgFSCwsz"
    },
    "kernelspec": {
      "name": "python3",
      "display_name": "Python 3"
    },
    "language_info": {
      "name": "python"
    }
  },
  "cells": [
    {
      "cell_type": "code",
      "execution_count": 3,
      "metadata": {
        "colab": {
          "base_uri": "https://localhost:8080/"
        },
        "id": "Iz5oCwZ3yAW-",
        "outputId": "4e58990c-2823-4904-c385-3a7a3e00cf16"
      },
      "outputs": [
        {
          "output_type": "stream",
          "name": "stdout",
          "text": [
            "1650.0000000000002円\n"
          ]
        }
      ],
      "source": [
        "def calculate_total(price, tax_rate=0.10):\n",
        "    total_price = price * (1 + tax_rate)\n",
        "    print(f'{total_price}円')\n",
        "\n",
        "# 税率を定義\n",
        "tax_rate = 0.10\n",
        "\n",
        "# 価格を設定\n",
        "price = 1500\n",
        "\n",
        "# 結果を表示\n",
        "calculate_total(price, tax_rate)\n"
      ]
    },
    {
      "cell_type": "code",
      "source": [],
      "metadata": {
        "id": "7TxNW0sJzmI8"
      },
      "execution_count": null,
      "outputs": []
    }
  ]
}