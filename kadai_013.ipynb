{
  "nbformat": 4,
  "nbformat_minor": 0,
  "metadata": {
    "colab": {
      "provenance": [],
      "authorship_tag": "ABX9TyPIAtFxce379gAh+gH1f36q"
    },
    "kernelspec": {
      "name": "python3",
      "display_name": "Python 3"
    },
    "language_info": {
      "name": "python"
    }
  },
  "cells": [
    {
      "cell_type": "code",
      "execution_count": 5,
      "metadata": {
        "colab": {
          "base_uri": "https://localhost:8080/"
        },
        "id": "Iz5oCwZ3yAW-",
        "outputId": "8a521c0b-7354-40f4-d80b-0f39704b4132"
      },
      "outputs": [
        {
          "output_type": "stream",
          "name": "stdout",
          "text": [
            "1650.0000000000002円\n"
          ]
        }
      ],
      "source": [
        "def calculate_total(price, tax_rate=0.10):\n",
        "    total_price = price * (1 + tax_rate)\n",
        "    return total_price\n",
        "\n",
        "# 税率を定義\n",
        "tax_rate = 0.10\n",
        "\n",
        "# 価格を設定\n",
        "price = 1500\n",
        "\n",
        "# 関数から結果を取得\n",
        "total_price = calculate_total(price, tax_rate)\n",
        "\n",
        "# 結果を表示\n",
        "print(f'{total_price}円')\n"
      ]
    },
    {
      "cell_type": "code",
      "source": [],
      "metadata": {
        "id": "7TxNW0sJzmI8"
      },
      "execution_count": null,
      "outputs": []
    }
  ]
}