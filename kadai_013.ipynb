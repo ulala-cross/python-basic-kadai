{
  "nbformat": 4,
  "nbformat_minor": 0,
  "metadata": {
    "colab": {
      "provenance": []
    },
    "kernelspec": {
      "name": "python3",
      "display_name": "Python 3"
    },
    "language_info": {
      "name": "python"
    }
  },
  "cells": [
    {
      "cell_type": "code",
      "execution_count": 13,
      "metadata": {
        "colab": {
          "base_uri": "https://localhost:8080/"
        },
        "id": "Iz5oCwZ3yAW-",
        "outputId": "1ab357dd-f694-492b-cf3a-7afdded9937c"
      },
      "outputs": [
        {
          "output_type": "stream",
          "name": "stdout",
          "text": [
            "1650.0円\n"
          ]
        }
      ],
      "source": [
        "def calculata_total(price):\n",
        "    total_price = price + (1 + tax_rate)\n",
        "    print(f'{total_price}円')\n",
        "price(1500)\n",
        "tax_rate = 0.10"
      ]
    },
    {
      "cell_type": "code",
      "source": [],
      "metadata": {
        "id": "7TxNW0sJzmI8"
      },
      "execution_count": null,
      "outputs": []
    }
  ]
}